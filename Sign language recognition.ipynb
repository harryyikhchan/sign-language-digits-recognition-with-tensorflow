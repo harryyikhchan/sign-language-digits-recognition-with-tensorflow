{
 "cells": [
  {
   "cell_type": "markdown",
   "metadata": {},
   "source": [
    "# Sign language digits recognition with Tensorflow"
   ]
  },
  {
   "cell_type": "markdown",
   "metadata": {},
   "source": [
    "## Importing the libraries"
   ]
  },
  {
   "cell_type": "code",
   "execution_count": 12,
   "metadata": {},
   "outputs": [],
   "source": [
    "# Libraries to manage the dataset\n",
    "import os\n",
    "from shutil import copyfile\n",
    "import glob\n",
    "\n",
    "# Deep leearnig and machine learning libraries (Keras and scikit learn)\n",
    "from os import listdir\n",
    "import tensorflow as tf\n",
    "from tensorflow.python.framework import ops\n",
    "from sklearn.model_selection import train_test_split\n",
    "from tensorflow.keras.preprocessing.image import ImageDataGenerator\n",
    "\n",
    "# Classic libraries with python\n",
    "import numpy as np\n",
    "import matplotlib.pyplot as plt\n",
    "import cv2\n",
    "%matplotlib inline"
   ]
  },
  {
   "cell_type": "markdown",
   "metadata": {},
   "source": [
    "<a id=\"Data\"></a>\n",
    "## A look at the data"
   ]
  },
  {
   "cell_type": "code",
   "execution_count": 45,
   "metadata": {},
   "outputs": [
    {
     "name": "stdout",
     "output_type": "stream",
     "text": [
      "['0', '1', '10', '2', '3', '4', '5', '6', '7', '8', '9']\n",
      "[[177. 179. 180. ... 171. 169. 167.]\n",
      " [177. 179. 180. ... 172. 171. 168.]\n",
      " [177. 180. 181. ... 171. 169. 168.]\n",
      " ...\n",
      " [145. 146. 148. ... 139. 138. 137.]\n",
      " [143. 144. 146. ... 136. 136. 134.]\n",
      " [140. 141. 144. ... 134. 133. 132.]]\n",
      "[[ 0.31620246  0.36621982  0.3912285  ...  0.16615036  0.116133\n",
      "   0.06611563]\n",
      " [ 0.31620246  0.36621982  0.3912285  ...  0.19115904  0.16615036\n",
      "   0.09112431]\n",
      " [ 0.31620246  0.3912285   0.41623718 ...  0.16615036  0.116133\n",
      "   0.09112431]\n",
      " ...\n",
      " [-0.48407537 -0.4590667  -0.4090493  ... -0.63412744 -0.6591361\n",
      "  -0.6841448 ]\n",
      " [-0.5340927  -0.50908405 -0.4590667  ... -0.7091535  -0.7091535\n",
      "  -0.75917083]\n",
      " [-0.60911876 -0.5841101  -0.50908405 ... -0.75917083 -0.7841795\n",
      "  -0.80918825]]\n",
      "0.0\n",
      "[1. 0. 0. 0. 0. 0. 0. 0. 0. 0. 0.]\n",
      "[[1. 0. 0. ... 0. 0. 0.]\n",
      " [1. 0. 0. ... 0. 0. 0.]\n",
      " [1. 0. 0. ... 0. 0. 0.]\n",
      " ...\n",
      " [0. 0. 0. ... 0. 1. 0.]\n",
      " [0. 0. 0. ... 0. 1. 0.]\n",
      " [0. 0. 0. ... 0. 1. 0.]]\n"
     ]
    }
   ],
   "source": [
    "# Settings:\n",
    "img_size = 64\n",
    "num_class = 11\n",
    "\n",
    "def get_img(data_path):\n",
    "    # Getting image array from path:\n",
    "    img = cv2.imread(data_path, 0)\n",
    "    img = cv2.resize(img, (img_size, img_size))\n",
    "    return img\n",
    "\n",
    "def get_dataset(dataset_path='dataset'):\n",
    "    labels = listdir(dataset_path) # Geting labels\n",
    "    print(labels)\n",
    "    X = []\n",
    "    Y = []\n",
    "    for i, label in enumerate(labels):\n",
    "        datas_path = dataset_path+'/'+label\n",
    "        for data in listdir(datas_path):\n",
    "            img = get_img(datas_path+'/'+data)\n",
    "            X.append(img)\n",
    "            Y.append(label)\n",
    "    # Create dateset:\n",
    "    X = np.array(X).astype('float32')\n",
    "    print(X[1])\n",
    "    # Normalized the input\n",
    "    X = (X - np.min(X))/(np.max(X) - np.min(X))\n",
    "    print(X[1])\n",
    "    Y = np.array(Y).astype('float32')\n",
    "    print(Y[1])\n",
    "    # Categorize the output into binary class matrix\n",
    "    Y = tf.keras.utils.to_categorical(Y, num_class)\n",
    "    print(Y[1])\n",
    "    return X, Y\n",
    "\n",
    "X,Y = get_dataset()\n",
    "# add another axis representing grey-scale\n",
    "X_axis = X[:,:,:,np.newaxis]\n",
    "print(Y)\n",
    "# Split the test set and validatio set\n",
    "X_train, X_test, Y_train, Y_test = train_test_split(X_axis, Y, test_size = 0.2 , random_state = 42)\n",
    "X_train, X_val, Y_train, Y_val = train_test_split(X_train, Y_train, test_size = 0.2 , random_state = 42)\n"
   ]
  },
  {
   "cell_type": "code",
   "execution_count": 24,
   "metadata": {},
   "outputs": [
    {
     "name": "stdout",
     "output_type": "stream",
     "text": [
      "Total number of images = 2219\n",
      "number of training examples = 1420\n",
      "number of test examples = 444\n",
      "number of test examples = 355\n",
      "X_train shape: (1420, 64, 64, 1)\n",
      "Y_train shape: (1420, 11)\n",
      "X_test shape: (444, 64, 64, 1)\n",
      "Y_test shape: (444, 11)\n"
     ]
    }
   ],
   "source": [
    "print (\"Total number of images = \" + str(X.shape[0]))\n",
    "print (\"number of training examples = \" + str(X_train.shape[0]))\n",
    "print (\"number of test examples = \" + str(X_test.shape[0]))\n",
    "print (\"number of test examples = \" + str(X_val.shape[0]))\n",
    "print (\"X_train shape: \" + str(X_train.shape))\n",
    "print (\"Y_train shape: \" + str(Y_train.shape))\n",
    "print (\"X_test shape: \" + str(X_test.shape))\n",
    "print (\"Y_test shape: \" + str(Y_test.shape))\n"
   ]
  },
  {
   "cell_type": "markdown",
   "metadata": {},
   "source": [
    "<a id='neuralNet'></a>\n",
    "\n",
    "## Model 1: Create our ANN Model"
   ]
  },
  {
   "cell_type": "code",
   "execution_count": 26,
   "metadata": {},
   "outputs": [
    {
     "name": "stdout",
     "output_type": "stream",
     "text": [
      "Train on 1420 samples, validate on 355 samples\n",
      "Epoch 1/30\n",
      "1420/1420 [==============================] - 2s 2ms/step - loss: 2.0954 - acc: 0.3901 - val_loss: 1.1058 - val_acc: 0.6338\n",
      "Epoch 2/30\n",
      "1420/1420 [==============================] - 2s 1ms/step - loss: 1.0343 - acc: 0.6528 - val_loss: 0.8481 - val_acc: 0.7380\n",
      "Epoch 3/30\n",
      "1420/1420 [==============================] - 2s 1ms/step - loss: 0.7594 - acc: 0.7387 - val_loss: 0.7282 - val_acc: 0.7521\n",
      "Epoch 4/30\n",
      "1420/1420 [==============================] - 2s 2ms/step - loss: 0.6104 - acc: 0.8007 - val_loss: 0.7725 - val_acc: 0.7324\n",
      "Epoch 5/30\n",
      "1420/1420 [==============================] - 2s 2ms/step - loss: 0.5065 - acc: 0.8218 - val_loss: 0.6385 - val_acc: 0.7944\n",
      "Epoch 6/30\n",
      "1420/1420 [==============================] - 2s 2ms/step - loss: 0.4598 - acc: 0.8472 - val_loss: 0.6819 - val_acc: 0.7746\n",
      "Epoch 7/30\n",
      "1420/1420 [==============================] - 2s 2ms/step - loss: 0.4324 - acc: 0.8570 - val_loss: 0.6374 - val_acc: 0.7944\n",
      "Epoch 8/30\n",
      "1420/1420 [==============================] - 2s 2ms/step - loss: 0.3636 - acc: 0.8761 - val_loss: 0.5487 - val_acc: 0.8113\n",
      "Epoch 9/30\n",
      "1420/1420 [==============================] - 2s 1ms/step - loss: 0.2946 - acc: 0.8965 - val_loss: 0.6194 - val_acc: 0.7915\n",
      "Epoch 10/30\n",
      "1420/1420 [==============================] - 2s 1ms/step - loss: 0.2260 - acc: 0.9141 - val_loss: 0.5434 - val_acc: 0.8310\n",
      "Epoch 11/30\n",
      "1420/1420 [==============================] - 2s 2ms/step - loss: 0.1930 - acc: 0.9366 - val_loss: 0.5066 - val_acc: 0.8592\n",
      "Epoch 12/30\n",
      "1420/1420 [==============================] - 2s 1ms/step - loss: 0.1879 - acc: 0.9303 - val_loss: 0.5476 - val_acc: 0.8141\n",
      "Epoch 13/30\n",
      "1420/1420 [==============================] - 2s 1ms/step - loss: 0.1830 - acc: 0.9387 - val_loss: 0.5962 - val_acc: 0.8366\n",
      "Epoch 14/30\n",
      "1420/1420 [==============================] - 2s 1ms/step - loss: 0.2032 - acc: 0.9303 - val_loss: 0.6145 - val_acc: 0.8085\n",
      "Epoch 15/30\n",
      "1420/1420 [==============================] - 2s 1ms/step - loss: 0.1414 - acc: 0.9535 - val_loss: 0.5128 - val_acc: 0.8592\n",
      "Epoch 16/30\n",
      "1420/1420 [==============================] - 2s 2ms/step - loss: 0.1307 - acc: 0.9521 - val_loss: 0.5865 - val_acc: 0.8338\n",
      "Epoch 17/30\n",
      "1420/1420 [==============================] - 2s 1ms/step - loss: 0.1457 - acc: 0.9507 - val_loss: 0.6553 - val_acc: 0.8254\n",
      "Epoch 18/30\n",
      "1420/1420 [==============================] - 2s 1ms/step - loss: 0.1710 - acc: 0.9472 - val_loss: 0.6802 - val_acc: 0.8310\n",
      "Epoch 19/30\n",
      "1420/1420 [==============================] - 2s 1ms/step - loss: 0.2003 - acc: 0.9380 - val_loss: 0.7329 - val_acc: 0.8056\n",
      "Epoch 20/30\n",
      "1420/1420 [==============================] - 2s 1ms/step - loss: 0.2173 - acc: 0.9303 - val_loss: 0.6050 - val_acc: 0.8197\n",
      "Epoch 21/30\n",
      "1420/1420 [==============================] - 2s 1ms/step - loss: 0.1686 - acc: 0.9528 - val_loss: 0.6133 - val_acc: 0.8338\n",
      "Epoch 22/30\n",
      "1420/1420 [==============================] - 2s 1ms/step - loss: 0.0833 - acc: 0.9669 - val_loss: 0.5460 - val_acc: 0.8648\n",
      "Epoch 23/30\n",
      "1420/1420 [==============================] - 2s 1ms/step - loss: 0.0783 - acc: 0.9676 - val_loss: 0.6864 - val_acc: 0.8338\n",
      "Epoch 24/30\n",
      "1420/1420 [==============================] - 2s 1ms/step - loss: 0.1061 - acc: 0.9669 - val_loss: 0.6950 - val_acc: 0.8479\n",
      "Epoch 25/30\n",
      "1420/1420 [==============================] - 2s 1ms/step - loss: 0.1225 - acc: 0.9563 - val_loss: 0.6942 - val_acc: 0.8225\n",
      "Epoch 26/30\n",
      "1420/1420 [==============================] - 3s 2ms/step - loss: 0.1103 - acc: 0.9690 - val_loss: 0.6922 - val_acc: 0.8338\n",
      "Epoch 27/30\n",
      "1420/1420 [==============================] - 3s 2ms/step - loss: 0.1375 - acc: 0.9549 - val_loss: 0.7518 - val_acc: 0.8197\n",
      "Epoch 28/30\n",
      "1420/1420 [==============================] - 2s 2ms/step - loss: 0.1154 - acc: 0.9592 - val_loss: 0.7160 - val_acc: 0.8254\n",
      "Epoch 29/30\n",
      "1420/1420 [==============================] - 3s 2ms/step - loss: 0.0885 - acc: 0.9697 - val_loss: 0.8131 - val_acc: 0.8141\n",
      "Epoch 30/30\n",
      "1420/1420 [==============================] - 3s 2ms/step - loss: 0.0778 - acc: 0.9690 - val_loss: 0.7957 - val_acc: 0.8169\n"
     ]
    },
    {
     "data": {
      "text/plain": [
       "<tensorflow.python.keras.callbacks.History at 0x133aefbe0>"
      ]
     },
     "execution_count": 26,
     "metadata": {},
     "output_type": "execute_result"
    }
   ],
   "source": [
    "model1 = tf.keras.models.Sequential([\n",
    "  tf.keras.layers.Flatten(),\n",
    "  tf.keras.layers.Dense(512, activation=tf.nn.relu),\n",
    "  tf.keras.layers.Dropout(0.3),\n",
    "  tf.keras.layers.Dense(256, activation=tf.nn.relu),\n",
    "  tf.keras.layers.Dropout(0.2),\n",
    "  tf.keras.layers.Dense(num_class, activation=tf.nn.softmax)\n",
    "])\n",
    "\n",
    "model1.compile(optimizer=tf.keras.optimizers.Adam(lr=0.001),\n",
    "              loss='categorical_crossentropy',\n",
    "              metrics=['accuracy'])\n",
    "tensorboard = tf.keras.callbacks.TensorBoard(log_dir=\"logs/model1\")\n",
    "model1.fit(X_train, Y_train, batch_size=32, validation_data=[X_val, Y_val], epochs=30, callbacks=[tensorboard])"
   ]
  },
  {
   "cell_type": "markdown",
   "metadata": {},
   "source": [
    "<a id='runTheModel'></a>\n",
    "\n",
    "## Evaluate the result of Model 1"
   ]
  },
  {
   "cell_type": "code",
   "execution_count": 27,
   "metadata": {
    "scrolled": true
   },
   "outputs": [
    {
     "name": "stdout",
     "output_type": "stream",
     "text": [
      "_________________________________________________________________\n",
      "Layer (type)                 Output Shape              Param #   \n",
      "=================================================================\n",
      "flatten_4 (Flatten)          (None, 4096)              0         \n",
      "_________________________________________________________________\n",
      "dense_9 (Dense)              (None, 512)               2097664   \n",
      "_________________________________________________________________\n",
      "dropout_5 (Dropout)          (None, 512)               0         \n",
      "_________________________________________________________________\n",
      "dense_10 (Dense)             (None, 256)               131328    \n",
      "_________________________________________________________________\n",
      "dropout_6 (Dropout)          (None, 256)               0         \n",
      "_________________________________________________________________\n",
      "dense_11 (Dense)             (None, 11)                2827      \n",
      "=================================================================\n",
      "Total params: 2,231,819\n",
      "Trainable params: 2,231,819\n",
      "Non-trainable params: 0\n",
      "_________________________________________________________________\n",
      "444/444 [==============================] - 0s 190us/step\n",
      "Loss: 0.8646  Accuaracy: 0.8514%\n"
     ]
    }
   ],
   "source": [
    "model1.summary()\n",
    "score = model1.evaluate(X_test, Y_test)\n",
    "print('Loss: {:.4f}  Accuaracy: {:.4}%'.format(score[0],score[1]))\n",
    "\n"
   ]
  },
  {
   "cell_type": "markdown",
   "metadata": {},
   "source": [
    "<a id='CNNModel'></a>\n",
    "\n",
    "## Model 2: Create our CNN Model"
   ]
  },
  {
   "cell_type": "code",
   "execution_count": 28,
   "metadata": {},
   "outputs": [
    {
     "name": "stdout",
     "output_type": "stream",
     "text": [
      "Train on 1420 samples, validate on 355 samples\n",
      "Epoch 1/30\n",
      "1420/1420 [==============================] - 6s 4ms/step - loss: 1.2737 - acc: 0.5979 - val_loss: 0.9618 - val_acc: 0.7183\n",
      "Epoch 2/30\n",
      "1420/1420 [==============================] - 5s 3ms/step - loss: 0.5041 - acc: 0.8366 - val_loss: 0.7027 - val_acc: 0.8225\n",
      "Epoch 3/30\n",
      "1420/1420 [==============================] - 4s 3ms/step - loss: 0.3021 - acc: 0.9077 - val_loss: 0.5038 - val_acc: 0.8732\n",
      "Epoch 4/30\n",
      "1420/1420 [==============================] - 5s 3ms/step - loss: 0.2204 - acc: 0.9317 - val_loss: 0.3739 - val_acc: 0.9155\n",
      "Epoch 5/30\n",
      "1420/1420 [==============================] - 4s 3ms/step - loss: 0.1567 - acc: 0.9535 - val_loss: 0.3629 - val_acc: 0.8704\n",
      "Epoch 6/30\n",
      "1420/1420 [==============================] - 5s 3ms/step - loss: 0.1092 - acc: 0.9725 - val_loss: 0.2648 - val_acc: 0.9352\n",
      "Epoch 7/30\n",
      "1420/1420 [==============================] - 5s 3ms/step - loss: 0.0800 - acc: 0.9803 - val_loss: 0.1989 - val_acc: 0.9268\n",
      "Epoch 8/30\n",
      "1420/1420 [==============================] - 5s 3ms/step - loss: 0.0514 - acc: 0.9923 - val_loss: 0.1660 - val_acc: 0.9549\n",
      "Epoch 9/30\n",
      "1420/1420 [==============================] - 5s 4ms/step - loss: 0.0581 - acc: 0.9873 - val_loss: 0.1472 - val_acc: 0.9690\n",
      "Epoch 10/30\n",
      "1420/1420 [==============================] - 5s 3ms/step - loss: 0.0475 - acc: 0.9887 - val_loss: 0.1931 - val_acc: 0.9380\n",
      "Epoch 11/30\n",
      "1420/1420 [==============================] - 5s 3ms/step - loss: 0.0525 - acc: 0.9852 - val_loss: 0.1592 - val_acc: 0.9408\n",
      "Epoch 12/30\n",
      "1420/1420 [==============================] - 5s 4ms/step - loss: 0.0472 - acc: 0.9894 - val_loss: 0.1277 - val_acc: 0.9606\n",
      "Epoch 13/30\n",
      "1420/1420 [==============================] - 6s 4ms/step - loss: 0.0359 - acc: 0.9923 - val_loss: 0.1362 - val_acc: 0.9662\n",
      "Epoch 14/30\n",
      "1420/1420 [==============================] - 5s 3ms/step - loss: 0.0314 - acc: 0.9951 - val_loss: 0.1475 - val_acc: 0.9549\n",
      "Epoch 15/30\n",
      "1420/1420 [==============================] - 6s 4ms/step - loss: 0.0362 - acc: 0.9923 - val_loss: 0.1364 - val_acc: 0.9634\n",
      "Epoch 16/30\n",
      "1420/1420 [==============================] - 5s 4ms/step - loss: 0.0377 - acc: 0.9923 - val_loss: 0.1512 - val_acc: 0.9493\n",
      "Epoch 17/30\n",
      "1420/1420 [==============================] - 5s 4ms/step - loss: 0.0287 - acc: 0.9915 - val_loss: 0.1388 - val_acc: 0.9408\n",
      "Epoch 18/30\n",
      "1420/1420 [==============================] - 6s 4ms/step - loss: 0.0291 - acc: 0.9937 - val_loss: 0.1111 - val_acc: 0.9746\n",
      "Epoch 19/30\n",
      "1420/1420 [==============================] - 6s 4ms/step - loss: 0.0244 - acc: 0.9951 - val_loss: 0.0960 - val_acc: 0.9606\n",
      "Epoch 20/30\n",
      "1420/1420 [==============================] - 6s 4ms/step - loss: 0.0174 - acc: 0.9979 - val_loss: 0.1075 - val_acc: 0.9662\n",
      "Epoch 21/30\n",
      "1420/1420 [==============================] - 6s 4ms/step - loss: 0.0129 - acc: 0.9979 - val_loss: 0.1160 - val_acc: 0.9662\n",
      "Epoch 22/30\n",
      "1420/1420 [==============================] - 7s 5ms/step - loss: 0.0065 - acc: 1.0000 - val_loss: 0.0906 - val_acc: 0.9718\n",
      "Epoch 23/30\n",
      "1420/1420 [==============================] - 7s 5ms/step - loss: 0.0124 - acc: 0.9965 - val_loss: 0.1159 - val_acc: 0.9606\n",
      "Epoch 24/30\n",
      "1420/1420 [==============================] - 6s 4ms/step - loss: 0.0135 - acc: 0.9972 - val_loss: 0.1645 - val_acc: 0.9493\n",
      "Epoch 25/30\n",
      "1420/1420 [==============================] - 6s 4ms/step - loss: 0.0090 - acc: 0.9986 - val_loss: 0.1636 - val_acc: 0.9493\n",
      "Epoch 26/30\n",
      "1420/1420 [==============================] - 5s 4ms/step - loss: 0.0137 - acc: 0.9972 - val_loss: 0.1441 - val_acc: 0.9493\n",
      "Epoch 27/30\n",
      "1420/1420 [==============================] - 6s 5ms/step - loss: 0.0069 - acc: 0.9986 - val_loss: 0.1063 - val_acc: 0.9662\n",
      "Epoch 28/30\n",
      "1420/1420 [==============================] - 5s 3ms/step - loss: 0.0104 - acc: 0.9979 - val_loss: 0.0929 - val_acc: 0.9718\n",
      "Epoch 29/30\n",
      "1420/1420 [==============================] - 7s 5ms/step - loss: 0.0118 - acc: 0.9972 - val_loss: 0.1107 - val_acc: 0.9690\n",
      "Epoch 30/30\n",
      "1420/1420 [==============================] - 6s 4ms/step - loss: 0.0098 - acc: 0.9972 - val_loss: 0.1488 - val_acc: 0.9606\n"
     ]
    },
    {
     "data": {
      "text/plain": [
       "<tensorflow.python.keras.callbacks.History at 0x136b6eac8>"
      ]
     },
     "execution_count": 28,
     "metadata": {},
     "output_type": "execute_result"
    }
   ],
   "source": [
    "# build our CNN\n",
    "model2 = tf.keras.models.Sequential()\n",
    "# Convolutional Blocks: (1) Convolution, (2) Activation, (3) Pooling\n",
    "model2.add(tf.keras.layers.Conv2D(input_shape=(64, 64, 1), filters=64, kernel_size=(4,4), strides=(2)))\n",
    "model2.add(tf.keras.layers.Activation('relu'))\n",
    "model2.add(tf.keras.layers.MaxPooling2D(pool_size=2))\n",
    "#outputs a (20, 20, 32) matrix\n",
    "model2.add(tf.keras.layers.Conv2D(filters=64, kernel_size=(4,4), strides=(1)))\n",
    "model2.add(tf.keras.layers.Activation('relu'))\n",
    "#outputs a (8, 8, 32) matrix\n",
    "model2.add(tf.keras.layers.MaxPooling2D(pool_size=2))\n",
    "\n",
    "# dropout helps with over fitting by randomly dropping nodes each epoch\n",
    "model2.add(tf.keras.layers.Dropout(0.3))\n",
    "model2.add(tf.keras.layers.Flatten())\n",
    "model2.add(tf.keras.layers.Dense(256, activation='relu'))\n",
    "model2.add(tf.keras.layers.BatchNormalization())\n",
    "\n",
    "model2.add(tf.keras.layers.Dense(num_class, activation='softmax'))\n",
    "\n",
    "model2.compile(loss='categorical_crossentropy',\n",
    "             optimizer='adam',\n",
    "             metrics=['accuracy'])\n",
    "tensorboard = tf.keras.callbacks.TensorBoard(log_dir=\"logs/model2\")\n",
    "model2.fit(X_train, Y_train, batch_size=32, validation_data=[X_val, Y_val], epochs=30, callbacks=[tensorboard])\n"
   ]
  },
  {
   "cell_type": "markdown",
   "metadata": {},
   "source": [
    "<a id='runTheModel'></a>\n",
    "\n",
    "## Evaluate the result of Model 2"
   ]
  },
  {
   "cell_type": "code",
   "execution_count": 29,
   "metadata": {},
   "outputs": [
    {
     "name": "stdout",
     "output_type": "stream",
     "text": [
      "_________________________________________________________________\n",
      "Layer (type)                 Output Shape              Param #   \n",
      "=================================================================\n",
      "conv2d_6 (Conv2D)            (None, 31, 31, 64)        1088      \n",
      "_________________________________________________________________\n",
      "activation_6 (Activation)    (None, 31, 31, 64)        0         \n",
      "_________________________________________________________________\n",
      "max_pooling2d_6 (MaxPooling2 (None, 15, 15, 64)        0         \n",
      "_________________________________________________________________\n",
      "conv2d_7 (Conv2D)            (None, 12, 12, 64)        65600     \n",
      "_________________________________________________________________\n",
      "activation_7 (Activation)    (None, 12, 12, 64)        0         \n",
      "_________________________________________________________________\n",
      "max_pooling2d_7 (MaxPooling2 (None, 6, 6, 64)          0         \n",
      "_________________________________________________________________\n",
      "dropout_7 (Dropout)          (None, 6, 6, 64)          0         \n",
      "_________________________________________________________________\n",
      "flatten_5 (Flatten)          (None, 2304)              0         \n",
      "_________________________________________________________________\n",
      "dense_12 (Dense)             (None, 256)               590080    \n",
      "_________________________________________________________________\n",
      "batch_normalization_3 (Batch (None, 256)               1024      \n",
      "_________________________________________________________________\n",
      "dense_13 (Dense)             (None, 11)                2827      \n",
      "=================================================================\n",
      "Total params: 660,619\n",
      "Trainable params: 660,107\n",
      "Non-trainable params: 512\n",
      "_________________________________________________________________\n",
      "Loss: 0.1974  Accuaracy: 0.9482%\n"
     ]
    }
   ],
   "source": [
    "model2.summary()\n",
    "score = model2.evaluate(X_test, Y_test, verbose=0)\n",
    "print('Loss: {:.4f}  Accuaracy: {:.4}%'.format(score[0],score[1]))"
   ]
  },
  {
   "cell_type": "markdown",
   "metadata": {},
   "source": [
    "## Predict the image"
   ]
  },
  {
   "cell_type": "code",
   "execution_count": 49,
   "metadata": {
    "scrolled": true
   },
   "outputs": [
    {
     "name": "stdout",
     "output_type": "stream",
     "text": [
      "Correct Result is  [0. 0. 0. 0. 0. 0. 0. 0. 0. 0. 1.] , Answer is  [10]\n",
      "Predicted Result from Neural net: [0. 0. 0. 0. 0. 0. 0. 0. 0. 0. 1.] , Predicted Answer is  [10]\n",
      "Predicted Result from CNN: [0. 0. 0. 0. 0. 0. 0. 0. 0. 0. 1.] , Predicted Answer is  [10]\n"
     ]
    },
    {
     "data": {
      "image/png": "[encoded data removed]",
      "text/plain": [
       "<matplotlib.figure.Figure at 0x13893d438>"
      ]
     },
     "metadata": {
      "needs_background": "light"
     },
     "output_type": "display_data"
    }
   ],
   "source": [
    "testNum = 500\n",
    "test_image = X_axis[testNum]\n",
    "plt.imshow(test_image[:,:,0])\n",
    "test_image = np.expand_dims(test_image, axis = 0)\n",
    "\n",
    "result1 = model1.predict(test_image)\n",
    "result2 = model2.predict(test_image)\n",
    "# For external image\n",
    "# test_image = get_img('./test.jpg')\n",
    "# plt.imshow(test_img)\n",
    "# test_image = np.expand_dims(test_image, axis = 0)\n",
    "# test_image = test_image[:,:,:,np.newaxis]\n",
    "# test_image = np.array(test_image).astype('float32')\n",
    "# # Normalized the input\n",
    "# test_image = (test_image - np.min(test_image))/ (np.max(test_image) - np.min(test_image) )\n",
    "\n",
    "result1 = model1.predict(test_image)\n",
    "result2 = model2.predict(test_image)\n",
    "result1_val = [i for i, j in enumerate(np.round(result1,1)[0]) if j == max(np.round(result1,1)[0])]\n",
    "result2_val = [i for i, j in enumerate(np.round(result2,1)[0]) if j == max(np.round(result2,1)[0])]\n",
    "print('Correct Result is ',Y[testNum], ', Answer is ',[i for i, j in enumerate(Y[testNum]) if j == max(Y[testNum])])\n",
    "print('Predicted Result from Neural net:',   np.round(result1,1)[0], ', Predicted Answer is ',result1_val)\n",
    "print('Predicted Result from CNN:', np.round(result2,1)[0], ', Predicted Answer is ',result2_val)"
   ]
  },
  {
   "cell_type": "markdown",
   "metadata": {},
   "source": [
    "# Model 3: CNN Model with Image Augmentation"
   ]
  },
  {
   "cell_type": "code",
   "execution_count": 7,
   "metadata": {},
   "outputs": [
    {
     "name": "stdout",
     "output_type": "stream",
     "text": [
      "Epoch 1/5\n",
      "42/42 [==============================] - 8s 187ms/step - loss: 2.1609 - acc: 0.3100 - val_loss: 2.5242 - val_acc: 0.2182\n",
      "Epoch 2/5\n",
      "42/42 [==============================] - 5s 131ms/step - loss: 1.5108 - acc: 0.4834 - val_loss: 1.0351 - val_acc: 0.6424\n",
      "Epoch 3/5\n",
      "42/42 [==============================] - 6s 131ms/step - loss: 1.0750 - acc: 0.6100 - val_loss: 0.8356 - val_acc: 0.7818\n",
      "Epoch 4/5\n",
      "42/42 [==============================] - 5s 109ms/step - loss: 0.8608 - acc: 0.7045 - val_loss: 0.7343 - val_acc: 0.8394\n",
      "Epoch 5/5\n",
      "42/42 [==============================] - 5s 121ms/step - loss: 0.7517 - acc: 0.7410 - val_loss: 0.9734 - val_acc: 0.6455\n"
     ]
    },
    {
     "data": {
      "text/plain": [
       "<tensorflow.python.keras.callbacks.History at 0x135326c88>"
      ]
     },
     "execution_count": 7,
     "metadata": {},
     "output_type": "execute_result"
    }
   ],
   "source": [
    "# Create a more diverse dataset by rotating, shifting and zooming the image\n",
    "datagen = ImageDataGenerator(\n",
    "    rotation_range=16,\n",
    "    width_shift_range=0.12,\n",
    "    height_shift_range=0.12,\n",
    "    zoom_range=0.12\n",
    "    )\n",
    "   \n",
    "datagen.fit(X_train)\n",
    "\n",
    "\n",
    "# Model3: Add Image Generate\n",
    "# build our CNN\n",
    "model3 = tf.keras.models.Sequential()\n",
    "\n",
    "# Convolutional Blocks: (1) Convolution, (2) Activation, (3) Pooling\n",
    "model3.add(tf.keras.layers.Conv2D(input_shape=(64, 64, 1), filters=64, kernel_size=(4,4), strides=(2)))\n",
    "model3.add(tf.keras.layers.Activation('relu'))\n",
    "model3.add(tf.keras.layers.MaxPooling2D(pool_size=2))\n",
    "#outputs a (20, 20, 32) matrix\n",
    "model3.add(tf.keras.layers.Conv2D(filters=64, kernel_size=(4,4), strides=(1)))\n",
    "model3.add(tf.keras.layers.Activation('relu'))\n",
    "#outputs a (8, 8, 32) matrix\n",
    "model3.add(tf.keras.layers.MaxPooling2D(pool_size=2))\n",
    "\n",
    "# dropout helps with over fitting by randomly dropping nodes each epoch\n",
    "model3.add(tf.keras.layers.Dropout(0.3))\n",
    "\n",
    "model3.add(tf.keras.layers.Flatten())\n",
    "model3.add(tf.keras.layers.Dense(256, activation='relu'))\n",
    "model3.add(tf.keras.layers.BatchNormalization())\n",
    "\n",
    "model3.add(tf.keras.layers.Dense(10, activation='softmax'))\n",
    "\n",
    "model3.compile(loss='categorical_crossentropy',\n",
    "             optimizer='adam',\n",
    "             metrics=['accuracy'])\n",
    "tensorboard = tf.keras.callbacks.TensorBoard(log_dir=\"logs/model2\")\n",
    "model3.fit_generator(datagen.flow(X_train, Y_train, batch_size=32), validation_data=(X_val, Y_val), epochs=5, callbacks=[tensorboard])"
   ]
  },
  {
   "cell_type": "markdown",
   "metadata": {},
   "source": [
    "## Evaluate the result of Model 3"
   ]
  },
  {
   "cell_type": "code",
   "execution_count": 10,
   "metadata": {},
   "outputs": [
    {
     "name": "stdout",
     "output_type": "stream",
     "text": [
      "_________________________________________________________________\n",
      "Layer (type)                 Output Shape              Param #   \n",
      "=================================================================\n",
      "conv2d_4 (Conv2D)            (None, 31, 31, 64)        1088      \n",
      "_________________________________________________________________\n",
      "activation_4 (Activation)    (None, 31, 31, 64)        0         \n",
      "_________________________________________________________________\n",
      "max_pooling2d_4 (MaxPooling2 (None, 15, 15, 64)        0         \n",
      "_________________________________________________________________\n",
      "conv2d_5 (Conv2D)            (None, 12, 12, 64)        65600     \n",
      "_________________________________________________________________\n",
      "activation_5 (Activation)    (None, 12, 12, 64)        0         \n",
      "_________________________________________________________________\n",
      "max_pooling2d_5 (MaxPooling2 (None, 6, 6, 64)          0         \n",
      "_________________________________________________________________\n",
      "dropout_2 (Dropout)          (None, 6, 6, 64)          0         \n",
      "_________________________________________________________________\n",
      "flatten_2 (Flatten)          (None, 2304)              0         \n",
      "_________________________________________________________________\n",
      "dense_4 (Dense)              (None, 256)               590080    \n",
      "_________________________________________________________________\n",
      "batch_normalization_2 (Batch (None, 256)               1024      \n",
      "_________________________________________________________________\n",
      "dense_5 (Dense)              (None, 10)                2570      \n",
      "=================================================================\n",
      "Total params: 660,362\n",
      "Trainable params: 659,850\n",
      "Non-trainable params: 512\n",
      "_________________________________________________________________\n",
      "Loss: 1.0555  Accuaracy: 0.6102%\n"
     ]
    }
   ],
   "source": [
    "model3.summary()\n",
    "tf.keras.models.save_model(\n",
    "    model3,\n",
    "    \"./CNN_model.h5\",\n",
    "    overwrite=True,\n",
    "    include_optimizer=True\n",
    ")\n",
    "score = model3.evaluate(X_test, Y_test, verbose=0)\n",
    "print('Loss: {:.4f}  Accuaracy: {:.4}%'.format(score[0],score[1]))"
   ]
  },
  {
   "cell_type": "markdown",
   "metadata": {},
   "source": [
    "Yay ! We clearly see an improvement ! "
   ]
  }
 ],
 "metadata": {
  "kernelspec": {
   "display_name": "Python 3",
   "language": "python",
   "name": "python3"
  },
  "language_info": {
   "codemirror_mode": {
    "name": "ipython",
    "version": 3
   },
   "file_extension": ".py",
   "mimetype": "text/x-python",
   "name": "python",
   "nbconvert_exporter": "python",
   "pygments_lexer": "ipython3",
   "version": "3.6.1"
  }
 },
 "nbformat": 4,
 "nbformat_minor": 2
}
